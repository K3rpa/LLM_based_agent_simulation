{
 "cells": [
  {
   "cell_type": "code",
   "execution_count": null,
   "id": "6b36623a",
   "metadata": {},
   "outputs": [],
   "source": [
    "import os\n",
    "import json\n",
    "import pandas as pd\n",
    "import matplotlib.pyplot as plt\n",
    "\n",
    "# 所有子目录名\n",
    "memory_dirs = ['episodic_memory', 'semantic_memory', 'procedural_memory']\n",
    "records = []\n",
    "\n",
    "# 遍历每个 memory 子目录，读取 result2.txt\n",
    "for memory_type in memory_dirs:\n",
    "    result_path = os.path.join(memory_type, 'result20.txt')\n",
    "    if not os.path.exists(result_path):\n",
    "        print(f\"File not found: {result_path}\")\n",
    "        continue\n",
    "\n",
    "    with open(result_path, 'r', encoding='utf-8') as f:\n",
    "        data = json.load(f)\n",
    "\n",
    "    # 去除最后一个平均值条目\n",
    "    for entry in data[:-1]:\n",
    "        records.append({\n",
    "            'MemoryType': memory_type.replace('_memory', '').capitalize(),\n",
    "            'BLEU': entry['bleu'],\n",
    "            'Similarity': entry['similarity'],\n",
    "            'FinalScore': entry['final_score']\n",
    "        })\n",
    "\n",
    "# 创建 DataFrame\n",
    "df = pd.DataFrame(records)\n",
    "\n",
    "# 绘图：分别绘制 BLEU、Similarity 和 FinalScore 的 Boxplot\n",
    "metrics = ['BLEU', 'Similarity', 'FinalScore']\n",
    "for metric in metrics:\n",
    "    plt.figure(figsize=(8, 5))\n",
    "    df.boxplot(column=metric, by='MemoryType')\n",
    "    plt.title(f'{metric} Score by Memory Type')\n",
    "    plt.suptitle('')\n",
    "    plt.xlabel('Memory Type')\n",
    "    plt.ylabel(metric)\n",
    "    plt.grid(True)\n",
    "    plt.tight_layout()\n",
    "    plt.show()\n"
   ]
  },
  {
   "cell_type": "code",
   "execution_count": null,
   "metadata": {},
   "outputs": [],
   "source": []
  }
 ],
 "metadata": {
  "kernelspec": {
   "display_name": "Python 3",
   "language": "python",
   "name": "python3"
  },
  "language_info": {
   "name": "python",
   "version": "3.10.12"
  }
 },
 "nbformat": 4,
 "nbformat_minor": 5
}
