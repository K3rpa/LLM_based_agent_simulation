{
 "cells": [
  {
   "cell_type": "code",
   "execution_count": 3,
   "id": "8c19e419",
   "metadata": {},
   "outputs": [],
   "source": [
    "import json\n",
    "from typing import List, Dict\n",
    "from plan import Plan\n",
    "from memory import Memory\n",
    "\n",
    "class EventManager:\n",
    "    def __init__(self, plan: Plan, memory: Memory, fixed_subevents_file: str):\n",
    "        self.plan = plan\n",
    "        self.memory = memory\n",
    "        self.fixed_subevents_file = fixed_subevents_file\n",
    "        self.fixed_subevents = self.load_fixed_subevents()\n",
    "\n",
    "    def load_fixed_subevents(self) -> Dict[str, List[str]]:\n",
    "        with open(self.fixed_subevents_file, 'r', encoding='utf-8') as f:\n",
    "            return json.load(f)\n",
    "\n",
    "    def get_main_event(self, day: str, tick: int) -> str:\n",
    "        plan_dict = self.plan.get_plan()\n",
    "        return plan_dict.get(day, {}).get(str(tick), \"No main event\")\n",
    "\n",
    "    def get_fixed_subevents(self, tick: int) -> List[str]:\n",
    "        return self.fixed_subevents.get(str(tick), [])\n",
    "\n",
    "    def simulate_tick(self, day: str, tick: int):\n",
    "        print(f\"\\n=== Tick {tick} Simulation ===\")\n",
    "        main_event = self.get_main_event(day, tick)\n",
    "        print(f\"Main Event: {main_event}\")\n",
    "\n",
    "        fixed = self.get_fixed_subevents(tick)\n",
    "        subevents = fixed  # Random events are temporarily disabled\n",
    "\n",
    "        print(f\"Subevent Set: {subevents}\")\n"
   ]
  }
 ],
 "metadata": {
  "kernelspec": {
   "display_name": "Python 3",
   "language": "python",
   "name": "python3"
  },
  "language_info": {
   "codemirror_mode": {
    "name": "ipython",
    "version": 3
   },
   "file_extension": ".py",
   "mimetype": "text/x-python",
   "name": "python",
   "nbconvert_exporter": "python",
   "pygments_lexer": "ipython3",
   "version": "3.10.12"
  }
 },
 "nbformat": 4,
 "nbformat_minor": 5
}
